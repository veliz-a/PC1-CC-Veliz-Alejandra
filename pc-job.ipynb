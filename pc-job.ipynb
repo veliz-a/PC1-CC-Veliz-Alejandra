{
 "cells": [
  {
   "cell_type": "code",
   "execution_count": 0,
   "metadata": {
    "application/vnd.databricks.v1+cell": {
     "cellMetadata": {
      "byteLimit": 2048000,
      "rowLimit": 10000
     },
     "inputWidgets": {},
     "nuid": "8b8e7cf9-f1d3-433d-b6d8-818d942ff2ae",
     "showTitle": false,
     "tableResultSettingsMap": {},
     "title": ""
    }
   },
   "outputs": [],
   "source": [
    "!pip install toml"
   ]
  },
  {
   "cell_type": "code",
   "execution_count": 0,
   "metadata": {
    "application/vnd.databricks.v1+cell": {
     "cellMetadata": {
      "byteLimit": 2048000,
      "rowLimit": 10000
     },
     "inputWidgets": {},
     "nuid": "f5b0d68e-81eb-4325-8b62-a651d0244e19",
     "showTitle": false,
     "tableResultSettingsMap": {},
     "title": ""
    }
   },
   "outputs": [],
   "source": [
    "dbutils.library.restartPython()"
   ]
  },
  {
   "cell_type": "code",
   "execution_count": 0,
   "metadata": {
    "application/vnd.databricks.v1+cell": {
     "cellMetadata": {
      "byteLimit": 2048000,
      "rowLimit": 10000
     },
     "inputWidgets": {},
     "nuid": "c96a3cfe-4d99-4213-8813-cb7397c1981e",
     "showTitle": false,
     "tableResultSettingsMap": {},
     "title": ""
    }
   },
   "outputs": [],
   "source": [
    "import warnings\n",
    "warnings.filterwarnings(\"ignore\")"
   ]
  },
  {
   "cell_type": "code",
   "execution_count": 0,
   "metadata": {
    "application/vnd.databricks.v1+cell": {
     "cellMetadata": {
      "byteLimit": 2048000,
      "rowLimit": 10000
     },
     "inputWidgets": {},
     "nuid": "918a2945-f0f9-4f5e-b123-4facdaa66754",
     "showTitle": false,
     "tableResultSettingsMap": {},
     "title": ""
    }
   },
   "outputs": [],
   "source": [
    "import toml\n",
    "import numpy as np\n",
    "import joblib\n",
    "import psycopg2\n",
    "\n",
    "# 1️⃣ Leer secretos desde secrets.toml\n",
    "secrets = toml.load(\"secrets.toml\")[\"postgres\"]\n",
    "USER = secrets[\"USER\"]\n",
    "PASSWORD = secrets[\"PASSWORD\"]\n",
    "HOST = secrets[\"HOST\"]\n",
    "PORT = secrets[\"PORT\"]\n",
    "DBNAME = secrets[\"DBNAME\"]\n",
    "\n",
    "# 2️⃣ Cargar modelo y scaler\n",
    "model = joblib.load(\"components/diabetes_model.pkl\")\n",
    "scaler = joblib.load(\"components/diabetes_scaler.pkl\")\n",
    "with open(\"components/diabetes_model_info.pkl\", \"rb\") as f:\n",
    "    model_info = joblib.load(f)\n",
    "\n",
    "feature_names = model_info[\"feature_names\"]\n",
    "\n",
    "# 3️⃣ Generar 20 registros aleatorios\n",
    "# Valores basados en rangos aproximados de las features del dataset\n",
    "np.random.seed(42)\n",
    "data = []\n",
    "for _ in range(10):\n",
    "    record = [\n",
    "        float(np.random.normal(0, 0.1)) for _ in feature_names\n",
    "    ]\n",
    "    data.append(record)\n",
    "\n",
    "# 4️⃣ Predecir y guardar en DB\n",
    "try:\n",
    "    connection = psycopg2.connect(\n",
    "        user=USER,\n",
    "        password=PASSWORD,\n",
    "        host=HOST,\n",
    "        port=PORT,\n",
    "        dbname=DBNAME\n",
    "    )\n",
    "    cursor = connection.cursor()\n",
    "\n",
    "    for record in data:\n",
    "        features_scaled = scaler.transform([record])\n",
    "        prediction = float(model.predict(features_scaled)[0])\n",
    "\n",
    "        # Query SQL\n",
    "        columns = \", \".join(feature_names)\n",
    "        placeholders = \", \".join([\"%s\"] * (len(record) + 1))  # +1 for prediction\n",
    "        sql = f\"INSERT INTO pc_ml_diabetes ({columns}, prediction) VALUES ({placeholders})\"\n",
    "\n",
    "        # Insert into DB\n",
    "        cursor.execute(sql, record + [prediction])\n",
    "\n",
    "    connection.commit()\n",
    "    cursor.close()\n",
    "    connection.close()\n",
    "    print(\"✅ 10 registros generados, predichos y guardados en la base de datos.\")\n",
    "\n",
    "except Exception as e:\n",
    "    print(f\"❌ Error al guardar en la base de datos: {e}\")\n"
   ]
  }
 ],
 "metadata": {
  "application/vnd.databricks.v1+notebook": {
   "computePreferences": null,
   "dashboards": [],
   "environmentMetadata": {
    "base_environment": "",
    "environment_version": "3"
   },
   "inputWidgetPreferences": null,
   "language": "python",
   "notebookMetadata": {
    "pythonIndentUnit": 4
   },
   "notebookName": "pc-job",
   "widgets": {}
  },
  "language_info": {
   "name": "python"
  }
 },
 "nbformat": 4,
 "nbformat_minor": 0
}
